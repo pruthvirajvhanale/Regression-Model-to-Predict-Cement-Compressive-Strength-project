{
  "nbformat": 4,
  "nbformat_minor": 0,
  "metadata": {
    "colab": {
      "provenance": []
    },
    "kernelspec": {
      "name": "python3",
      "display_name": "Python 3"
    },
    "language_info": {
      "name": "python"
    }
  },
  "cells": [
    {
      "cell_type": "code",
      "execution_count": null,
      "metadata": {
        "id": "TmcU9w0JInDk"
      },
      "outputs": [],
      "source": [
        "# import library\n",
        "import pandas as pd"
      ]
    },
    {
      "cell_type": "code",
      "source": [],
      "metadata": {
        "id": "LieS3XbWbe0v"
      },
      "execution_count": null,
      "outputs": []
    },
    {
      "cell_type": "code",
      "source": [
        "# import data\n",
        "cement = pd.read_csv('https://github.com/ybifoundation/Dataset/raw/main/Concrete%20Compressive%20Strength.csv')     "
      ],
      "metadata": {
        "id": "MFixY9BhIr7Q"
      },
      "execution_count": null,
      "outputs": []
    },
    {
      "cell_type": "code",
      "source": [
        "# view data\n",
        "cement.head()"
      ],
      "metadata": {
        "id": "xkDCx3ERIu7b"
      },
      "execution_count": null,
      "outputs": []
    },
    {
      "cell_type": "code",
      "source": [
        "# info of data\n",
        "cement.info()"
      ],
      "metadata": {
        "id": "8v7CY9voI5YW"
      },
      "execution_count": null,
      "outputs": []
    },
    {
      "cell_type": "code",
      "source": [
        "# summary statistics\n",
        "cement.describe()"
      ],
      "metadata": {
        "id": "S3PLiloCI9Ug"
      },
      "execution_count": null,
      "outputs": []
    },
    {
      "cell_type": "code",
      "source": [
        "# check for missing value\n",
        "cement.isnull().sum()"
      ],
      "metadata": {
        "id": "d568kj-UJBZ3"
      },
      "execution_count": null,
      "outputs": []
    },
    {
      "cell_type": "code",
      "source": [
        "# check for categories\n",
        "cement.nunique()"
      ],
      "metadata": {
        "id": "ei60wjHvJEGe"
      },
      "execution_count": null,
      "outputs": []
    },
    {
      "cell_type": "code",
      "source": [
        "# visualize pairplot\n",
        "\n",
        "import seaborn as sns\n"
      ],
      "metadata": {
        "id": "asakwUnWJdE6"
      },
      "execution_count": null,
      "outputs": []
    },
    {
      "cell_type": "code",
      "source": [
        "sns.pairplot(cement)\n"
      ],
      "metadata": {
        "id": "McoKKxQxJg_e"
      },
      "execution_count": null,
      "outputs": []
    },
    {
      "cell_type": "code",
      "source": [
        "# columns name\n",
        "cement.columns"
      ],
      "metadata": {
        "colab": {
          "base_uri": "https://localhost:8080/"
        },
        "id": "nLvwXYETJjXZ",
        "outputId": "c35175c0-2ee7-43ac-a4bb-c9f15f7d9b3a"
      },
      "execution_count": null,
      "outputs": [
        {
          "output_type": "execute_result",
          "data": {
            "text/plain": [
              "Index(['Cement (kg in a m^3 mixture)',\n",
              "       'Blast Furnace Slag (kg in a m^3 mixture)',\n",
              "       'Fly Ash (kg in a m^3 mixture)', 'Water (kg in a m^3 mixture)',\n",
              "       'Superplasticizer (kg in a m^3 mixture)',\n",
              "       'Coarse Aggregate (kg in a m^3 mixture)',\n",
              "       'Fine Aggregate (kg in a m^3 mixture)', 'Age (day)',\n",
              "       'Concrete Compressive Strength(MPa, megapascals) '],\n",
              "      dtype='object')"
            ]
          },
          "metadata": {},
          "execution_count": 45
        }
      ]
    },
    {
      "cell_type": "code",
      "source": [
        "# define y\n",
        "y=cement['Concrete Compressive Strength(MPa, megapascals) ']"
      ],
      "metadata": {
        "id": "_E8e4IJYJtd_"
      },
      "execution_count": null,
      "outputs": []
    },
    {
      "cell_type": "code",
      "source": [
        "# define X\n",
        "X=cement[['Cement (kg in a m^3 mixture)',\n",
        "       'Blast Furnace Slag (kg in a m^3 mixture)',\n",
        "       'Fly Ash (kg in a m^3 mixture)', 'Water (kg in a m^3 mixture)',\n",
        "       'Superplasticizer (kg in a m^3 mixture)',\n",
        "       'Coarse Aggregate (kg in a m^3 mixture)',\n",
        "       'Fine Aggregate (kg in a m^3 mixture)', 'Age (day)']]"
      ],
      "metadata": {
        "id": "xrcle3CsJwk3"
      },
      "execution_count": null,
      "outputs": []
    },
    {
      "cell_type": "code",
      "source": [
        "# import funtion\n",
        "from sklearn.model_selection import train_test_split\n"
      ],
      "metadata": {
        "id": "uGo5nqNEJ0KQ"
      },
      "execution_count": null,
      "outputs": []
    },
    {
      "cell_type": "code",
      "source": [
        "# spilt data\n",
        "# split y and X into train and test data\n",
        "X_train, X_test, y_train, y_test = train_test_split(X,y, train_size=0.7, random_state=2529)"
      ],
      "metadata": {
        "id": "DbykKy24J23n"
      },
      "execution_count": null,
      "outputs": []
    },
    {
      "cell_type": "code",
      "source": [
        "# verify shape\n",
        "# check shape of train and test sample\n",
        "X_train.shape, X_test.shape, y_train.shape, y_test.shape\n"
      ],
      "metadata": {
        "colab": {
          "base_uri": "https://localhost:8080/"
        },
        "id": "V4pOv5CtKYhS",
        "outputId": "21c4f178-2881-44f0-dd56-e4af462dd160"
      },
      "execution_count": null,
      "outputs": [
        {
          "output_type": "execute_result",
          "data": {
            "text/plain": [
              "((721, 8), (309, 8), (721,), (309,))"
            ]
          },
          "metadata": {},
          "execution_count": 50
        }
      ]
    },
    {
      "cell_type": "code",
      "source": [
        "# select model\n",
        "from sklearn.linear_model import LinearRegression\n",
        "model = LinearRegression()"
      ],
      "metadata": {
        "id": "qV-r1G6jKbPf"
      },
      "execution_count": null,
      "outputs": []
    },
    {
      "cell_type": "code",
      "source": [
        "# select model\n",
        "from sklearn.linear_model import LinearRegression\n",
        "model = LinearRegression()"
      ],
      "metadata": {
        "id": "KAAENmJ5Kv9W"
      },
      "execution_count": null,
      "outputs": []
    },
    {
      "cell_type": "code",
      "source": [
        "# train model\n",
        "model.fit(X_train,y_train)"
      ],
      "metadata": {
        "colab": {
          "base_uri": "https://localhost:8080/"
        },
        "id": "R6lsjLjEKw3v",
        "outputId": "32504031-6c28-45ac-919f-bc85b9c3ed5d"
      },
      "execution_count": null,
      "outputs": [
        {
          "output_type": "execute_result",
          "data": {
            "text/plain": [
              "LinearRegression()"
            ]
          },
          "metadata": {},
          "execution_count": 53
        }
      ]
    },
    {
      "cell_type": "code",
      "source": [
        "cement.corr()"
      ],
      "metadata": {
        "colab": {
          "base_uri": "https://localhost:8080/",
          "height": 601
        },
        "id": "k6lrB4f2K5fT",
        "outputId": "6a74c66a-7085-4b43-9309-2dba69bcd97a"
      },
      "execution_count": null,
      "outputs": [
        {
          "output_type": "execute_result",
          "data": {
            "text/plain": [
              "                                                  Cement (kg in a m^3 mixture)  \\\n",
              "Cement (kg in a m^3 mixture)                                          1.000000   \n",
              "Blast Furnace Slag (kg in a m^3 mixture)                             -0.275193   \n",
              "Fly Ash (kg in a m^3 mixture)                                        -0.397475   \n",
              "Water (kg in a m^3 mixture)                                          -0.081544   \n",
              "Superplasticizer (kg in a m^3 mixture)                                0.092771   \n",
              "Coarse Aggregate (kg in a m^3 mixture)                               -0.109356   \n",
              "Fine Aggregate (kg in a m^3 mixture)                                 -0.222720   \n",
              "Age (day)                                                             0.081947   \n",
              "Concrete Compressive Strength(MPa, megapascals)                       0.497833   \n",
              "\n",
              "                                                  Blast Furnace Slag (kg in a m^3 mixture)  \\\n",
              "Cement (kg in a m^3 mixture)                                                     -0.275193   \n",
              "Blast Furnace Slag (kg in a m^3 mixture)                                          1.000000   \n",
              "Fly Ash (kg in a m^3 mixture)                                                    -0.323569   \n",
              "Water (kg in a m^3 mixture)                                                       0.107286   \n",
              "Superplasticizer (kg in a m^3 mixture)                                            0.043376   \n",
              "Coarse Aggregate (kg in a m^3 mixture)                                           -0.283998   \n",
              "Fine Aggregate (kg in a m^3 mixture)                                             -0.281593   \n",
              "Age (day)                                                                        -0.044246   \n",
              "Concrete Compressive Strength(MPa, megapascals)                                   0.134824   \n",
              "\n",
              "                                                  Fly Ash (kg in a m^3 mixture)  \\\n",
              "Cement (kg in a m^3 mixture)                                          -0.397475   \n",
              "Blast Furnace Slag (kg in a m^3 mixture)                              -0.323569   \n",
              "Fly Ash (kg in a m^3 mixture)                                          1.000000   \n",
              "Water (kg in a m^3 mixture)                                           -0.257044   \n",
              "Superplasticizer (kg in a m^3 mixture)                                 0.377340   \n",
              "Coarse Aggregate (kg in a m^3 mixture)                                -0.009977   \n",
              "Fine Aggregate (kg in a m^3 mixture)                                   0.079076   \n",
              "Age (day)                                                             -0.154370   \n",
              "Concrete Compressive Strength(MPa, megapascals)                       -0.105753   \n",
              "\n",
              "                                                  Water (kg in a m^3 mixture)  \\\n",
              "Cement (kg in a m^3 mixture)                                        -0.081544   \n",
              "Blast Furnace Slag (kg in a m^3 mixture)                             0.107286   \n",
              "Fly Ash (kg in a m^3 mixture)                                       -0.257044   \n",
              "Water (kg in a m^3 mixture)                                          1.000000   \n",
              "Superplasticizer (kg in a m^3 mixture)                              -0.657464   \n",
              "Coarse Aggregate (kg in a m^3 mixture)                              -0.182312   \n",
              "Fine Aggregate (kg in a m^3 mixture)                                -0.450635   \n",
              "Age (day)                                                            0.277604   \n",
              "Concrete Compressive Strength(MPa, megapascals)                     -0.289613   \n",
              "\n",
              "                                                  Superplasticizer (kg in a m^3 mixture)  \\\n",
              "Cement (kg in a m^3 mixture)                                                    0.092771   \n",
              "Blast Furnace Slag (kg in a m^3 mixture)                                        0.043376   \n",
              "Fly Ash (kg in a m^3 mixture)                                                   0.377340   \n",
              "Water (kg in a m^3 mixture)                                                    -0.657464   \n",
              "Superplasticizer (kg in a m^3 mixture)                                          1.000000   \n",
              "Coarse Aggregate (kg in a m^3 mixture)                                         -0.266303   \n",
              "Fine Aggregate (kg in a m^3 mixture)                                            0.222501   \n",
              "Age (day)                                                                      -0.192717   \n",
              "Concrete Compressive Strength(MPa, megapascals)                                 0.366102   \n",
              "\n",
              "                                                  Coarse Aggregate (kg in a m^3 mixture)  \\\n",
              "Cement (kg in a m^3 mixture)                                                   -0.109356   \n",
              "Blast Furnace Slag (kg in a m^3 mixture)                                       -0.283998   \n",
              "Fly Ash (kg in a m^3 mixture)                                                  -0.009977   \n",
              "Water (kg in a m^3 mixture)                                                    -0.182312   \n",
              "Superplasticizer (kg in a m^3 mixture)                                         -0.266303   \n",
              "Coarse Aggregate (kg in a m^3 mixture)                                          1.000000   \n",
              "Fine Aggregate (kg in a m^3 mixture)                                           -0.178506   \n",
              "Age (day)                                                                      -0.003016   \n",
              "Concrete Compressive Strength(MPa, megapascals)                                -0.164928   \n",
              "\n",
              "                                                  Fine Aggregate (kg in a m^3 mixture)  \\\n",
              "Cement (kg in a m^3 mixture)                                                 -0.222720   \n",
              "Blast Furnace Slag (kg in a m^3 mixture)                                     -0.281593   \n",
              "Fly Ash (kg in a m^3 mixture)                                                 0.079076   \n",
              "Water (kg in a m^3 mixture)                                                  -0.450635   \n",
              "Superplasticizer (kg in a m^3 mixture)                                        0.222501   \n",
              "Coarse Aggregate (kg in a m^3 mixture)                                       -0.178506   \n",
              "Fine Aggregate (kg in a m^3 mixture)                                          1.000000   \n",
              "Age (day)                                                                    -0.156094   \n",
              "Concrete Compressive Strength(MPa, megapascals)                              -0.167249   \n",
              "\n",
              "                                                  Age (day)  \\\n",
              "Cement (kg in a m^3 mixture)                       0.081947   \n",
              "Blast Furnace Slag (kg in a m^3 mixture)          -0.044246   \n",
              "Fly Ash (kg in a m^3 mixture)                     -0.154370   \n",
              "Water (kg in a m^3 mixture)                        0.277604   \n",
              "Superplasticizer (kg in a m^3 mixture)            -0.192717   \n",
              "Coarse Aggregate (kg in a m^3 mixture)            -0.003016   \n",
              "Fine Aggregate (kg in a m^3 mixture)              -0.156094   \n",
              "Age (day)                                          1.000000   \n",
              "Concrete Compressive Strength(MPa, megapascals)    0.328877   \n",
              "\n",
              "                                                  Concrete Compressive Strength(MPa, megapascals)   \n",
              "Cement (kg in a m^3 mixture)                                                              0.497833  \n",
              "Blast Furnace Slag (kg in a m^3 mixture)                                                  0.134824  \n",
              "Fly Ash (kg in a m^3 mixture)                                                            -0.105753  \n",
              "Water (kg in a m^3 mixture)                                                              -0.289613  \n",
              "Superplasticizer (kg in a m^3 mixture)                                                    0.366102  \n",
              "Coarse Aggregate (kg in a m^3 mixture)                                                   -0.164928  \n",
              "Fine Aggregate (kg in a m^3 mixture)                                                     -0.167249  \n",
              "Age (day)                                                                                 0.328877  \n",
              "Concrete Compressive Strength(MPa, megapascals)                                           1.000000  "
            ],
            "text/html": [
              "\n",
              "  <div id=\"df-b5b0046b-6368-4e9d-ab47-d532f252aced\">\n",
              "    <div class=\"colab-df-container\">\n",
              "      <div>\n",
              "<style scoped>\n",
              "    .dataframe tbody tr th:only-of-type {\n",
              "        vertical-align: middle;\n",
              "    }\n",
              "\n",
              "    .dataframe tbody tr th {\n",
              "        vertical-align: top;\n",
              "    }\n",
              "\n",
              "    .dataframe thead th {\n",
              "        text-align: right;\n",
              "    }\n",
              "</style>\n",
              "<table border=\"1\" class=\"dataframe\">\n",
              "  <thead>\n",
              "    <tr style=\"text-align: right;\">\n",
              "      <th></th>\n",
              "      <th>Cement (kg in a m^3 mixture)</th>\n",
              "      <th>Blast Furnace Slag (kg in a m^3 mixture)</th>\n",
              "      <th>Fly Ash (kg in a m^3 mixture)</th>\n",
              "      <th>Water (kg in a m^3 mixture)</th>\n",
              "      <th>Superplasticizer (kg in a m^3 mixture)</th>\n",
              "      <th>Coarse Aggregate (kg in a m^3 mixture)</th>\n",
              "      <th>Fine Aggregate (kg in a m^3 mixture)</th>\n",
              "      <th>Age (day)</th>\n",
              "      <th>Concrete Compressive Strength(MPa, megapascals)</th>\n",
              "    </tr>\n",
              "  </thead>\n",
              "  <tbody>\n",
              "    <tr>\n",
              "      <th>Cement (kg in a m^3 mixture)</th>\n",
              "      <td>1.000000</td>\n",
              "      <td>-0.275193</td>\n",
              "      <td>-0.397475</td>\n",
              "      <td>-0.081544</td>\n",
              "      <td>0.092771</td>\n",
              "      <td>-0.109356</td>\n",
              "      <td>-0.222720</td>\n",
              "      <td>0.081947</td>\n",
              "      <td>0.497833</td>\n",
              "    </tr>\n",
              "    <tr>\n",
              "      <th>Blast Furnace Slag (kg in a m^3 mixture)</th>\n",
              "      <td>-0.275193</td>\n",
              "      <td>1.000000</td>\n",
              "      <td>-0.323569</td>\n",
              "      <td>0.107286</td>\n",
              "      <td>0.043376</td>\n",
              "      <td>-0.283998</td>\n",
              "      <td>-0.281593</td>\n",
              "      <td>-0.044246</td>\n",
              "      <td>0.134824</td>\n",
              "    </tr>\n",
              "    <tr>\n",
              "      <th>Fly Ash (kg in a m^3 mixture)</th>\n",
              "      <td>-0.397475</td>\n",
              "      <td>-0.323569</td>\n",
              "      <td>1.000000</td>\n",
              "      <td>-0.257044</td>\n",
              "      <td>0.377340</td>\n",
              "      <td>-0.009977</td>\n",
              "      <td>0.079076</td>\n",
              "      <td>-0.154370</td>\n",
              "      <td>-0.105753</td>\n",
              "    </tr>\n",
              "    <tr>\n",
              "      <th>Water (kg in a m^3 mixture)</th>\n",
              "      <td>-0.081544</td>\n",
              "      <td>0.107286</td>\n",
              "      <td>-0.257044</td>\n",
              "      <td>1.000000</td>\n",
              "      <td>-0.657464</td>\n",
              "      <td>-0.182312</td>\n",
              "      <td>-0.450635</td>\n",
              "      <td>0.277604</td>\n",
              "      <td>-0.289613</td>\n",
              "    </tr>\n",
              "    <tr>\n",
              "      <th>Superplasticizer (kg in a m^3 mixture)</th>\n",
              "      <td>0.092771</td>\n",
              "      <td>0.043376</td>\n",
              "      <td>0.377340</td>\n",
              "      <td>-0.657464</td>\n",
              "      <td>1.000000</td>\n",
              "      <td>-0.266303</td>\n",
              "      <td>0.222501</td>\n",
              "      <td>-0.192717</td>\n",
              "      <td>0.366102</td>\n",
              "    </tr>\n",
              "    <tr>\n",
              "      <th>Coarse Aggregate (kg in a m^3 mixture)</th>\n",
              "      <td>-0.109356</td>\n",
              "      <td>-0.283998</td>\n",
              "      <td>-0.009977</td>\n",
              "      <td>-0.182312</td>\n",
              "      <td>-0.266303</td>\n",
              "      <td>1.000000</td>\n",
              "      <td>-0.178506</td>\n",
              "      <td>-0.003016</td>\n",
              "      <td>-0.164928</td>\n",
              "    </tr>\n",
              "    <tr>\n",
              "      <th>Fine Aggregate (kg in a m^3 mixture)</th>\n",
              "      <td>-0.222720</td>\n",
              "      <td>-0.281593</td>\n",
              "      <td>0.079076</td>\n",
              "      <td>-0.450635</td>\n",
              "      <td>0.222501</td>\n",
              "      <td>-0.178506</td>\n",
              "      <td>1.000000</td>\n",
              "      <td>-0.156094</td>\n",
              "      <td>-0.167249</td>\n",
              "    </tr>\n",
              "    <tr>\n",
              "      <th>Age (day)</th>\n",
              "      <td>0.081947</td>\n",
              "      <td>-0.044246</td>\n",
              "      <td>-0.154370</td>\n",
              "      <td>0.277604</td>\n",
              "      <td>-0.192717</td>\n",
              "      <td>-0.003016</td>\n",
              "      <td>-0.156094</td>\n",
              "      <td>1.000000</td>\n",
              "      <td>0.328877</td>\n",
              "    </tr>\n",
              "    <tr>\n",
              "      <th>Concrete Compressive Strength(MPa, megapascals)</th>\n",
              "      <td>0.497833</td>\n",
              "      <td>0.134824</td>\n",
              "      <td>-0.105753</td>\n",
              "      <td>-0.289613</td>\n",
              "      <td>0.366102</td>\n",
              "      <td>-0.164928</td>\n",
              "      <td>-0.167249</td>\n",
              "      <td>0.328877</td>\n",
              "      <td>1.000000</td>\n",
              "    </tr>\n",
              "  </tbody>\n",
              "</table>\n",
              "</div>\n",
              "      <button class=\"colab-df-convert\" onclick=\"convertToInteractive('df-b5b0046b-6368-4e9d-ab47-d532f252aced')\"\n",
              "              title=\"Convert this dataframe to an interactive table.\"\n",
              "              style=\"display:none;\">\n",
              "        \n",
              "  <svg xmlns=\"http://www.w3.org/2000/svg\" height=\"24px\"viewBox=\"0 0 24 24\"\n",
              "       width=\"24px\">\n",
              "    <path d=\"M0 0h24v24H0V0z\" fill=\"none\"/>\n",
              "    <path d=\"M18.56 5.44l.94 2.06.94-2.06 2.06-.94-2.06-.94-.94-2.06-.94 2.06-2.06.94zm-11 1L8.5 8.5l.94-2.06 2.06-.94-2.06-.94L8.5 2.5l-.94 2.06-2.06.94zm10 10l.94 2.06.94-2.06 2.06-.94-2.06-.94-.94-2.06-.94 2.06-2.06.94z\"/><path d=\"M17.41 7.96l-1.37-1.37c-.4-.4-.92-.59-1.43-.59-.52 0-1.04.2-1.43.59L10.3 9.45l-7.72 7.72c-.78.78-.78 2.05 0 2.83L4 21.41c.39.39.9.59 1.41.59.51 0 1.02-.2 1.41-.59l7.78-7.78 2.81-2.81c.8-.78.8-2.07 0-2.86zM5.41 20L4 18.59l7.72-7.72 1.47 1.35L5.41 20z\"/>\n",
              "  </svg>\n",
              "      </button>\n",
              "      \n",
              "  <style>\n",
              "    .colab-df-container {\n",
              "      display:flex;\n",
              "      flex-wrap:wrap;\n",
              "      gap: 12px;\n",
              "    }\n",
              "\n",
              "    .colab-df-convert {\n",
              "      background-color: #E8F0FE;\n",
              "      border: none;\n",
              "      border-radius: 50%;\n",
              "      cursor: pointer;\n",
              "      display: none;\n",
              "      fill: #1967D2;\n",
              "      height: 32px;\n",
              "      padding: 0 0 0 0;\n",
              "      width: 32px;\n",
              "    }\n",
              "\n",
              "    .colab-df-convert:hover {\n",
              "      background-color: #E2EBFA;\n",
              "      box-shadow: 0px 1px 2px rgba(60, 64, 67, 0.3), 0px 1px 3px 1px rgba(60, 64, 67, 0.15);\n",
              "      fill: #174EA6;\n",
              "    }\n",
              "\n",
              "    [theme=dark] .colab-df-convert {\n",
              "      background-color: #3B4455;\n",
              "      fill: #D2E3FC;\n",
              "    }\n",
              "\n",
              "    [theme=dark] .colab-df-convert:hover {\n",
              "      background-color: #434B5C;\n",
              "      box-shadow: 0px 1px 3px 1px rgba(0, 0, 0, 0.15);\n",
              "      filter: drop-shadow(0px 1px 2px rgba(0, 0, 0, 0.3));\n",
              "      fill: #FFFFFF;\n",
              "    }\n",
              "  </style>\n",
              "\n",
              "      <script>\n",
              "        const buttonEl =\n",
              "          document.querySelector('#df-b5b0046b-6368-4e9d-ab47-d532f252aced button.colab-df-convert');\n",
              "        buttonEl.style.display =\n",
              "          google.colab.kernel.accessAllowed ? 'block' : 'none';\n",
              "\n",
              "        async function convertToInteractive(key) {\n",
              "          const element = document.querySelector('#df-b5b0046b-6368-4e9d-ab47-d532f252aced');\n",
              "          const dataTable =\n",
              "            await google.colab.kernel.invokeFunction('convertToInteractive',\n",
              "                                                     [key], {});\n",
              "          if (!dataTable) return;\n",
              "\n",
              "          const docLinkHtml = 'Like what you see? Visit the ' +\n",
              "            '<a target=\"_blank\" href=https://colab.research.google.com/notebooks/data_table.ipynb>data table notebook</a>'\n",
              "            + ' to learn more about interactive tables.';\n",
              "          element.innerHTML = '';\n",
              "          dataTable['output_type'] = 'display_data';\n",
              "          await google.colab.output.renderOutput(dataTable, element);\n",
              "          const docLink = document.createElement('div');\n",
              "          docLink.innerHTML = docLinkHtml;\n",
              "          element.appendChild(docLink);\n",
              "        }\n",
              "      </script>\n",
              "    </div>\n",
              "  </div>\n",
              "  "
            ]
          },
          "metadata": {},
          "execution_count": 54
        }
      ]
    },
    {
      "cell_type": "code",
      "source": [
        "# predict with model\n",
        "y_pred= model.predict(X_test)"
      ],
      "metadata": {
        "id": "zPqKeVo4K-OF"
      },
      "execution_count": null,
      "outputs": []
    },
    {
      "cell_type": "code",
      "source": [
        "# model evaluation\n",
        "\n",
        "from sklearn.metrics import mean_absolute_error, mean_absolute_percentage_error, mean_squared_error"
      ],
      "metadata": {
        "id": "i0FmX7VgLCp4"
      },
      "execution_count": null,
      "outputs": []
    },
    {
      "cell_type": "code",
      "source": [
        "# model MAE\n",
        "mean_absolute_error(y_test,y_pred)"
      ],
      "metadata": {
        "colab": {
          "base_uri": "https://localhost:8080/"
        },
        "id": "X99MdJKALHDo",
        "outputId": "daa25070-e1ef-4274-bcb1-684abb3bce3a"
      },
      "execution_count": null,
      "outputs": [
        {
          "output_type": "execute_result",
          "data": {
            "text/plain": [
              "8.683767775410708"
            ]
          },
          "metadata": {},
          "execution_count": 57
        }
      ]
    },
    {
      "cell_type": "code",
      "source": [
        "# model MAPE\n",
        "mean_absolute_percentage_error(y_test,y_pred)"
      ],
      "metadata": {
        "colab": {
          "base_uri": "https://localhost:8080/"
        },
        "id": "rRLoAZ6qLKAc",
        "outputId": "792962db-01eb-4397-c9cc-ebf286e6166d"
      },
      "execution_count": null,
      "outputs": [
        {
          "output_type": "execute_result",
          "data": {
            "text/plain": [
              "0.3134440184320867"
            ]
          },
          "metadata": {},
          "execution_count": 58
        }
      ]
    },
    {
      "cell_type": "code",
      "source": [
        "# model MSE\n",
        "mean_squared_error(y_test,y_pred)\n"
      ],
      "metadata": {
        "colab": {
          "base_uri": "https://localhost:8080/"
        },
        "id": "1JGlklV6LOMM",
        "outputId": "fdfc8a7a-f7d9-4926-d338-12a445b7c1c4"
      },
      "execution_count": null,
      "outputs": [
        {
          "output_type": "execute_result",
          "data": {
            "text/plain": [
              "120.40313453787677"
            ]
          },
          "metadata": {},
          "execution_count": 59
        }
      ]
    },
    {
      "cell_type": "code",
      "source": [
        "# future prediction\n",
        "X.sample()"
      ],
      "metadata": {
        "colab": {
          "base_uri": "https://localhost:8080/",
          "height": 142
        },
        "id": "xUm3quzOLRH3",
        "outputId": "79a992d6-c54b-4d4e-eaa8-6f7edb654df3"
      },
      "execution_count": null,
      "outputs": [
        {
          "output_type": "execute_result",
          "data": {
            "text/plain": [
              "     Cement (kg in a m^3 mixture)  Blast Furnace Slag (kg in a m^3 mixture)  \\\n",
              "290                        182.04                                     45.21   \n",
              "\n",
              "     Fly Ash (kg in a m^3 mixture)  Water (kg in a m^3 mixture)  \\\n",
              "290                         121.97                       170.21   \n",
              "\n",
              "     Superplasticizer (kg in a m^3 mixture)  \\\n",
              "290                                    8.19   \n",
              "\n",
              "     Coarse Aggregate (kg in a m^3 mixture)  \\\n",
              "290                                  1059.4   \n",
              "\n",
              "     Fine Aggregate (kg in a m^3 mixture)  Age (day)  \n",
              "290                                780.65         14  "
            ],
            "text/html": [
              "\n",
              "  <div id=\"df-ef45737f-c9e8-4d45-8ad4-175edf0f756d\">\n",
              "    <div class=\"colab-df-container\">\n",
              "      <div>\n",
              "<style scoped>\n",
              "    .dataframe tbody tr th:only-of-type {\n",
              "        vertical-align: middle;\n",
              "    }\n",
              "\n",
              "    .dataframe tbody tr th {\n",
              "        vertical-align: top;\n",
              "    }\n",
              "\n",
              "    .dataframe thead th {\n",
              "        text-align: right;\n",
              "    }\n",
              "</style>\n",
              "<table border=\"1\" class=\"dataframe\">\n",
              "  <thead>\n",
              "    <tr style=\"text-align: right;\">\n",
              "      <th></th>\n",
              "      <th>Cement (kg in a m^3 mixture)</th>\n",
              "      <th>Blast Furnace Slag (kg in a m^3 mixture)</th>\n",
              "      <th>Fly Ash (kg in a m^3 mixture)</th>\n",
              "      <th>Water (kg in a m^3 mixture)</th>\n",
              "      <th>Superplasticizer (kg in a m^3 mixture)</th>\n",
              "      <th>Coarse Aggregate (kg in a m^3 mixture)</th>\n",
              "      <th>Fine Aggregate (kg in a m^3 mixture)</th>\n",
              "      <th>Age (day)</th>\n",
              "    </tr>\n",
              "  </thead>\n",
              "  <tbody>\n",
              "    <tr>\n",
              "      <th>290</th>\n",
              "      <td>182.04</td>\n",
              "      <td>45.21</td>\n",
              "      <td>121.97</td>\n",
              "      <td>170.21</td>\n",
              "      <td>8.19</td>\n",
              "      <td>1059.4</td>\n",
              "      <td>780.65</td>\n",
              "      <td>14</td>\n",
              "    </tr>\n",
              "  </tbody>\n",
              "</table>\n",
              "</div>\n",
              "      <button class=\"colab-df-convert\" onclick=\"convertToInteractive('df-ef45737f-c9e8-4d45-8ad4-175edf0f756d')\"\n",
              "              title=\"Convert this dataframe to an interactive table.\"\n",
              "              style=\"display:none;\">\n",
              "        \n",
              "  <svg xmlns=\"http://www.w3.org/2000/svg\" height=\"24px\"viewBox=\"0 0 24 24\"\n",
              "       width=\"24px\">\n",
              "    <path d=\"M0 0h24v24H0V0z\" fill=\"none\"/>\n",
              "    <path d=\"M18.56 5.44l.94 2.06.94-2.06 2.06-.94-2.06-.94-.94-2.06-.94 2.06-2.06.94zm-11 1L8.5 8.5l.94-2.06 2.06-.94-2.06-.94L8.5 2.5l-.94 2.06-2.06.94zm10 10l.94 2.06.94-2.06 2.06-.94-2.06-.94-.94-2.06-.94 2.06-2.06.94z\"/><path d=\"M17.41 7.96l-1.37-1.37c-.4-.4-.92-.59-1.43-.59-.52 0-1.04.2-1.43.59L10.3 9.45l-7.72 7.72c-.78.78-.78 2.05 0 2.83L4 21.41c.39.39.9.59 1.41.59.51 0 1.02-.2 1.41-.59l7.78-7.78 2.81-2.81c.8-.78.8-2.07 0-2.86zM5.41 20L4 18.59l7.72-7.72 1.47 1.35L5.41 20z\"/>\n",
              "  </svg>\n",
              "      </button>\n",
              "      \n",
              "  <style>\n",
              "    .colab-df-container {\n",
              "      display:flex;\n",
              "      flex-wrap:wrap;\n",
              "      gap: 12px;\n",
              "    }\n",
              "\n",
              "    .colab-df-convert {\n",
              "      background-color: #E8F0FE;\n",
              "      border: none;\n",
              "      border-radius: 50%;\n",
              "      cursor: pointer;\n",
              "      display: none;\n",
              "      fill: #1967D2;\n",
              "      height: 32px;\n",
              "      padding: 0 0 0 0;\n",
              "      width: 32px;\n",
              "    }\n",
              "\n",
              "    .colab-df-convert:hover {\n",
              "      background-color: #E2EBFA;\n",
              "      box-shadow: 0px 1px 2px rgba(60, 64, 67, 0.3), 0px 1px 3px 1px rgba(60, 64, 67, 0.15);\n",
              "      fill: #174EA6;\n",
              "    }\n",
              "\n",
              "    [theme=dark] .colab-df-convert {\n",
              "      background-color: #3B4455;\n",
              "      fill: #D2E3FC;\n",
              "    }\n",
              "\n",
              "    [theme=dark] .colab-df-convert:hover {\n",
              "      background-color: #434B5C;\n",
              "      box-shadow: 0px 1px 3px 1px rgba(0, 0, 0, 0.15);\n",
              "      filter: drop-shadow(0px 1px 2px rgba(0, 0, 0, 0.3));\n",
              "      fill: #FFFFFF;\n",
              "    }\n",
              "  </style>\n",
              "\n",
              "      <script>\n",
              "        const buttonEl =\n",
              "          document.querySelector('#df-ef45737f-c9e8-4d45-8ad4-175edf0f756d button.colab-df-convert');\n",
              "        buttonEl.style.display =\n",
              "          google.colab.kernel.accessAllowed ? 'block' : 'none';\n",
              "\n",
              "        async function convertToInteractive(key) {\n",
              "          const element = document.querySelector('#df-ef45737f-c9e8-4d45-8ad4-175edf0f756d');\n",
              "          const dataTable =\n",
              "            await google.colab.kernel.invokeFunction('convertToInteractive',\n",
              "                                                     [key], {});\n",
              "          if (!dataTable) return;\n",
              "\n",
              "          const docLinkHtml = 'Like what you see? Visit the ' +\n",
              "            '<a target=\"_blank\" href=https://colab.research.google.com/notebooks/data_table.ipynb>data table notebook</a>'\n",
              "            + ' to learn more about interactive tables.';\n",
              "          element.innerHTML = '';\n",
              "          dataTable['output_type'] = 'display_data';\n",
              "          await google.colab.output.renderOutput(dataTable, element);\n",
              "          const docLink = document.createElement('div');\n",
              "          docLink.innerHTML = docLinkHtml;\n",
              "          element.appendChild(docLink);\n",
              "        }\n",
              "      </script>\n",
              "    </div>\n",
              "  </div>\n",
              "  "
            ]
          },
          "metadata": {},
          "execution_count": 60
        }
      ]
    },
    {
      "cell_type": "code",
      "source": [
        "# define X_new\n",
        "X_new = X.sample()\n",
        "X_new.sample()"
      ],
      "metadata": {
        "colab": {
          "base_uri": "https://localhost:8080/",
          "height": 142
        },
        "id": "og2zK-sbLT01",
        "outputId": "a9663309-1cfb-46a0-cee2-a9376295a220"
      },
      "execution_count": null,
      "outputs": [
        {
          "output_type": "execute_result",
          "data": {
            "text/plain": [
              "     Cement (kg in a m^3 mixture)  Blast Furnace Slag (kg in a m^3 mixture)  \\\n",
              "975                         277.0                                     116.8   \n",
              "\n",
              "     Fly Ash (kg in a m^3 mixture)  Water (kg in a m^3 mixture)  \\\n",
              "975                           91.0                        190.6   \n",
              "\n",
              "     Superplasticizer (kg in a m^3 mixture)  \\\n",
              "975                                     7.0   \n",
              "\n",
              "     Coarse Aggregate (kg in a m^3 mixture)  \\\n",
              "975                                   946.5   \n",
              "\n",
              "     Fine Aggregate (kg in a m^3 mixture)  Age (day)  \n",
              "975                                 665.6         28  "
            ],
            "text/html": [
              "\n",
              "  <div id=\"df-d71e204c-037c-4562-bfd4-88c438ab7d5d\">\n",
              "    <div class=\"colab-df-container\">\n",
              "      <div>\n",
              "<style scoped>\n",
              "    .dataframe tbody tr th:only-of-type {\n",
              "        vertical-align: middle;\n",
              "    }\n",
              "\n",
              "    .dataframe tbody tr th {\n",
              "        vertical-align: top;\n",
              "    }\n",
              "\n",
              "    .dataframe thead th {\n",
              "        text-align: right;\n",
              "    }\n",
              "</style>\n",
              "<table border=\"1\" class=\"dataframe\">\n",
              "  <thead>\n",
              "    <tr style=\"text-align: right;\">\n",
              "      <th></th>\n",
              "      <th>Cement (kg in a m^3 mixture)</th>\n",
              "      <th>Blast Furnace Slag (kg in a m^3 mixture)</th>\n",
              "      <th>Fly Ash (kg in a m^3 mixture)</th>\n",
              "      <th>Water (kg in a m^3 mixture)</th>\n",
              "      <th>Superplasticizer (kg in a m^3 mixture)</th>\n",
              "      <th>Coarse Aggregate (kg in a m^3 mixture)</th>\n",
              "      <th>Fine Aggregate (kg in a m^3 mixture)</th>\n",
              "      <th>Age (day)</th>\n",
              "    </tr>\n",
              "  </thead>\n",
              "  <tbody>\n",
              "    <tr>\n",
              "      <th>975</th>\n",
              "      <td>277.0</td>\n",
              "      <td>116.8</td>\n",
              "      <td>91.0</td>\n",
              "      <td>190.6</td>\n",
              "      <td>7.0</td>\n",
              "      <td>946.5</td>\n",
              "      <td>665.6</td>\n",
              "      <td>28</td>\n",
              "    </tr>\n",
              "  </tbody>\n",
              "</table>\n",
              "</div>\n",
              "      <button class=\"colab-df-convert\" onclick=\"convertToInteractive('df-d71e204c-037c-4562-bfd4-88c438ab7d5d')\"\n",
              "              title=\"Convert this dataframe to an interactive table.\"\n",
              "              style=\"display:none;\">\n",
              "        \n",
              "  <svg xmlns=\"http://www.w3.org/2000/svg\" height=\"24px\"viewBox=\"0 0 24 24\"\n",
              "       width=\"24px\">\n",
              "    <path d=\"M0 0h24v24H0V0z\" fill=\"none\"/>\n",
              "    <path d=\"M18.56 5.44l.94 2.06.94-2.06 2.06-.94-2.06-.94-.94-2.06-.94 2.06-2.06.94zm-11 1L8.5 8.5l.94-2.06 2.06-.94-2.06-.94L8.5 2.5l-.94 2.06-2.06.94zm10 10l.94 2.06.94-2.06 2.06-.94-2.06-.94-.94-2.06-.94 2.06-2.06.94z\"/><path d=\"M17.41 7.96l-1.37-1.37c-.4-.4-.92-.59-1.43-.59-.52 0-1.04.2-1.43.59L10.3 9.45l-7.72 7.72c-.78.78-.78 2.05 0 2.83L4 21.41c.39.39.9.59 1.41.59.51 0 1.02-.2 1.41-.59l7.78-7.78 2.81-2.81c.8-.78.8-2.07 0-2.86zM5.41 20L4 18.59l7.72-7.72 1.47 1.35L5.41 20z\"/>\n",
              "  </svg>\n",
              "      </button>\n",
              "      \n",
              "  <style>\n",
              "    .colab-df-container {\n",
              "      display:flex;\n",
              "      flex-wrap:wrap;\n",
              "      gap: 12px;\n",
              "    }\n",
              "\n",
              "    .colab-df-convert {\n",
              "      background-color: #E8F0FE;\n",
              "      border: none;\n",
              "      border-radius: 50%;\n",
              "      cursor: pointer;\n",
              "      display: none;\n",
              "      fill: #1967D2;\n",
              "      height: 32px;\n",
              "      padding: 0 0 0 0;\n",
              "      width: 32px;\n",
              "    }\n",
              "\n",
              "    .colab-df-convert:hover {\n",
              "      background-color: #E2EBFA;\n",
              "      box-shadow: 0px 1px 2px rgba(60, 64, 67, 0.3), 0px 1px 3px 1px rgba(60, 64, 67, 0.15);\n",
              "      fill: #174EA6;\n",
              "    }\n",
              "\n",
              "    [theme=dark] .colab-df-convert {\n",
              "      background-color: #3B4455;\n",
              "      fill: #D2E3FC;\n",
              "    }\n",
              "\n",
              "    [theme=dark] .colab-df-convert:hover {\n",
              "      background-color: #434B5C;\n",
              "      box-shadow: 0px 1px 3px 1px rgba(0, 0, 0, 0.15);\n",
              "      filter: drop-shadow(0px 1px 2px rgba(0, 0, 0, 0.3));\n",
              "      fill: #FFFFFF;\n",
              "    }\n",
              "  </style>\n",
              "\n",
              "      <script>\n",
              "        const buttonEl =\n",
              "          document.querySelector('#df-d71e204c-037c-4562-bfd4-88c438ab7d5d button.colab-df-convert');\n",
              "        buttonEl.style.display =\n",
              "          google.colab.kernel.accessAllowed ? 'block' : 'none';\n",
              "\n",
              "        async function convertToInteractive(key) {\n",
              "          const element = document.querySelector('#df-d71e204c-037c-4562-bfd4-88c438ab7d5d');\n",
              "          const dataTable =\n",
              "            await google.colab.kernel.invokeFunction('convertToInteractive',\n",
              "                                                     [key], {});\n",
              "          if (!dataTable) return;\n",
              "\n",
              "          const docLinkHtml = 'Like what you see? Visit the ' +\n",
              "            '<a target=\"_blank\" href=https://colab.research.google.com/notebooks/data_table.ipynb>data table notebook</a>'\n",
              "            + ' to learn more about interactive tables.';\n",
              "          element.innerHTML = '';\n",
              "          dataTable['output_type'] = 'display_data';\n",
              "          await google.colab.output.renderOutput(dataTable, element);\n",
              "          const docLink = document.createElement('div');\n",
              "          docLink.innerHTML = docLinkHtml;\n",
              "          element.appendChild(docLink);\n",
              "        }\n",
              "      </script>\n",
              "    </div>\n",
              "  </div>\n",
              "  "
            ]
          },
          "metadata": {},
          "execution_count": 61
        }
      ]
    },
    {
      "cell_type": "code",
      "source": [
        "# predict for X_new\n",
        "model.predict(X_new)\n"
      ],
      "metadata": {
        "colab": {
          "base_uri": "https://localhost:8080/"
        },
        "id": "6hx67U3ZLkfo",
        "outputId": "91512dc7-b8d4-488b-90dc-0c9fd1e9cce1"
      },
      "execution_count": null,
      "outputs": [
        {
          "output_type": "execute_result",
          "data": {
            "text/plain": [
              "array([37.32192668])"
            ]
          },
          "metadata": {},
          "execution_count": 62
        }
      ]
    }
  ]
}